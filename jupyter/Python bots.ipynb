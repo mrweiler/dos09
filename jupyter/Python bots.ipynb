{
 "cells": [
  {
   "cell_type": "markdown",
   "metadata": {},
   "source": [
    "# Introduction to survey bots with python"
   ]
  },
  {
   "cell_type": "markdown",
   "metadata": {},
   "source": [
    "## 1. Import modules\n",
    "We start byimporting external modules that we will need for our bots."
   ]
  },
  {
   "cell_type": "code",
   "execution_count": 145,
   "metadata": {},
   "outputs": [],
   "source": [
    "import datetime\n",
    "import numpy as np\n",
    "from selenium import webdriver\n",
    "from selenium.webdriver.common.by import By\n",
    "from selenium.webdriver.support import expected_conditions as EC\n",
    "from selenium.webdriver.support.ui import WebDriverWait"
   ]
  },
  {
   "cell_type": "markdown",
   "metadata": {},
   "source": [
    "## 2. Defining functions\n",
    "Next we define some functions. Functions help us to reduce our code and improve readability."
   ]
  },
  {
   "cell_type": "markdown",
   "metadata": {},
   "source": [
    "The function below marks __checkboxes__:"
   ]
  },
  {
   "cell_type": "code",
   "execution_count": 146,
   "metadata": {},
   "outputs": [],
   "source": [
    "def answer_checkbox(question_block, number_of_options, none_option):\n",
    "    \"\"\" answer checkboxes \"\"\"\n",
    "    number_of_answers = np.random.choice(number_of_options, 1)\n",
    "    check_list = np.random.choice(number_of_options, number_of_answers, replace=False)\n",
    "\n",
    "    if number_of_answers == 0:\n",
    "        answer = DRIVER.find_element_by_xpath(\n",
    "            '//label[@for=\"checkbox-k6-survey_%i_%i\"]' % (question_block, none_option))\n",
    "        answer.click()\n",
    "    elif none_option in check_list:\n",
    "        answer = DRIVER.find_element_by_xpath(\n",
    "            '//label[@for=\"checkbox-k6-survey_%i_%i\"]' % (question_block, none_option))\n",
    "        answer.click()\n",
    "    else:\n",
    "        for checked_item in check_list:\n",
    "            answer = DRIVER.find_element_by_xpath(\n",
    "                '//label[@for=\"checkbox-k6-survey_%i_%i\"]' % (question_block, checked_item))\n",
    "            answer.click()"
   ]
  },
  {
   "cell_type": "markdown",
   "metadata": {},
   "source": [
    "This functions answers items on a __likert scale__:"
   ]
  },
  {
   "cell_type": "code",
   "execution_count": 147,
   "metadata": {},
   "outputs": [],
   "source": [
    "def answer_likert_items(question_block, number_of_questions, number_of_options):\n",
    "    \"\"\" answer likert items \"\"\"\n",
    "    for i in range(number_of_questions):\n",
    "        answer = DRIVER.find_element_by_xpath(\n",
    "            '//label[@for=\"option-k6-survey_%i_%i\"]' % (i + question_block, np.random.choice(\n",
    "                number_of_options, 1)))\n",
    "        answer.click()"
   ]
  },
  {
   "cell_type": "markdown",
   "metadata": {},
   "source": [
    "We can use this function to fill out __textfields__:"
   ]
  },
  {
   "cell_type": "code",
   "execution_count": 148,
   "metadata": {},
   "outputs": [],
   "source": [
    "def answer_textfield(question_block, number_of_questions, textfield):\n",
    "    \"\"\" answer textfield \"\"\"\n",
    "    for i in range(number_of_questions):\n",
    "        answer = DRIVER.find_element_by_xpath(\n",
    "            '//input[@name=\"k6-survey_%i\"]' % (i + question_block))\n",
    "        answer.send_keys(\"%s\" % textfield)\n"
   ]
  },
  {
   "cell_type": "markdown",
   "metadata": {},
   "source": [
    "This function __clicks a button__ for us:"
   ]
  },
  {
   "cell_type": "code",
   "execution_count": 149,
   "metadata": {},
   "outputs": [],
   "source": [
    "def click_button(button_text):\n",
    "    \"\"\" simulate button click \"\"\"\n",
    "    button = DRIVER.find_element_by_xpath('//button[text()=\"%s\"]' % (button_text))\n",
    "    button.click()"
   ]
  },
  {
   "cell_type": "markdown",
   "metadata": {},
   "source": [
    "## 3. Fill out the survey\n",
    "Next we will start to fill out the survey."
   ]
  },
  {
   "cell_type": "markdown",
   "metadata": {},
   "source": [
    "Before that, we will __start a timer__ to see how long it takes to answer the survey: "
   ]
  },
  {
   "cell_type": "code",
   "execution_count": 150,
   "metadata": {},
   "outputs": [],
   "source": [
    "START_TIME = datetime.datetime.now()"
   ]
  },
  {
   "cell_type": "markdown",
   "metadata": {},
   "source": [
    "Then we need to __open a webbrowser__ where we can conduct the survey in. Here we will use the Chrome browser:"
   ]
  },
  {
   "cell_type": "code",
   "execution_count": 151,
   "metadata": {},
   "outputs": [],
   "source": [
    "DRIVER = webdriver.Chrome()"
   ]
  },
  {
   "cell_type": "markdown",
   "metadata": {},
   "source": [
    "Next we will __open the web address__ of the survey:"
   ]
  },
  {
   "cell_type": "code",
   "execution_count": 152,
   "metadata": {},
   "outputs": [],
   "source": [
    "DRIVER.get('https://expfactory-experiments.github.io/k6-survey/')"
   ]
  },
  {
   "cell_type": "markdown",
   "metadata": {},
   "source": [
    "We __click__ on the __\"Next\"__ button:"
   ]
  },
  {
   "cell_type": "code",
   "execution_count": 153,
   "metadata": {},
   "outputs": [],
   "source": [
    "click_button(\"Next\")"
   ]
  },
  {
   "cell_type": "markdown",
   "metadata": {},
   "source": [
    "After reading the instructions we will again __click__ on __\"Next\"__:"
   ]
  },
  {
   "cell_type": "code",
   "execution_count": 154,
   "metadata": {},
   "outputs": [],
   "source": [
    "click_button(\"Next\")"
   ]
  },
  {
   "cell_type": "markdown",
   "metadata": {},
   "source": [
    "We will first __answer the next 6 items__ as they have the same answer format. "
   ]
  },
  {
   "cell_type": "code",
   "execution_count": 155,
   "metadata": {},
   "outputs": [],
   "source": [
    "answer_likert_items(question_block=3, number_of_questions=6, number_of_options=5)"
   ]
  },
  {
   "cell_type": "markdown",
   "metadata": {},
   "source": [
    "Next we will __answer the final question__ on that page."
   ]
  },
  {
   "cell_type": "code",
   "execution_count": 156,
   "metadata": {},
   "outputs": [],
   "source": [
    "answer_likert_items(question_block=9, number_of_questions=1, number_of_options=7)"
   ]
  },
  {
   "cell_type": "markdown",
   "metadata": {},
   "source": [
    "We __click \"Next\"__ to proceed to the next screen."
   ]
  },
  {
   "cell_type": "code",
   "execution_count": 157,
   "metadata": {},
   "outputs": [],
   "source": [
    "click_button(\"Next\")"
   ]
  },
  {
   "cell_type": "markdown",
   "metadata": {},
   "source": [
    "On the next screen we __fill out__ the __first textfield__:"
   ]
  },
  {
   "cell_type": "code",
   "execution_count": 158,
   "metadata": {},
   "outputs": [],
   "source": [
    "answer_textfield(question_block=11, number_of_questions=1, textfield=np.random.choice(30, 1))"
   ]
  },
  {
   "cell_type": "markdown",
   "metadata": {},
   "source": [
    "... the __second textfield__:"
   ]
  },
  {
   "cell_type": "code",
   "execution_count": 159,
   "metadata": {},
   "outputs": [],
   "source": [
    "answer_textfield(question_block=12, number_of_questions=1, textfield=np.random.choice(30, 1))"
   ]
  },
  {
   "cell_type": "markdown",
   "metadata": {},
   "source": [
    "... and the __third textfield__."
   ]
  },
  {
   "cell_type": "code",
   "execution_count": 160,
   "metadata": {},
   "outputs": [],
   "source": [
    "answer_textfield(question_block=13, number_of_questions=1, textfield=np.random.choice(30, 1))"
   ]
  },
  {
   "cell_type": "markdown",
   "metadata": {},
   "source": [
    "Then we answer the __likert scale__:"
   ]
  },
  {
   "cell_type": "code",
   "execution_count": 161,
   "metadata": {},
   "outputs": [],
   "source": [
    "answer_likert_items(question_block=14, number_of_questions=1, number_of_options=5)"
   ]
  },
  {
   "cell_type": "markdown",
   "metadata": {},
   "source": [
    "... and __proceed to__ the __next screen__:"
   ]
  },
  {
   "cell_type": "code",
   "execution_count": 162,
   "metadata": {},
   "outputs": [],
   "source": [
    "click_button(\"Next\")"
   ]
  },
  {
   "cell_type": "markdown",
   "metadata": {},
   "source": [
    "We __check__ all __psychological disorders__ that apply:"
   ]
  },
  {
   "cell_type": "code",
   "execution_count": 163,
   "metadata": {},
   "outputs": [],
   "source": [
    "answer_checkbox(question_block=15, number_of_options=14, none_option=13)"
   ]
  },
  {
   "cell_type": "markdown",
   "metadata": {},
   "source": [
    "If necessary, we __indicate other disorders__:"
   ]
  },
  {
   "cell_type": "code",
   "execution_count": 164,
   "metadata": {},
   "outputs": [],
   "source": [
    "OTHER_OPTION = DRIVER.find_element_by_xpath('//label[@for=\"checkbox-k6-survey_%i_%i\"]' % (15, 12))\n",
    "if \"is-checked\" in OTHER_OPTION.get_attribute(\"class\"):\n",
    "    answer_textfield(\n",
    "        question_block=16, number_of_questions=1, textfield=\"Other psychological disorder\")"
   ]
  },
  {
   "cell_type": "markdown",
   "metadata": {},
   "source": [
    "We indicate if we had any __neurological disorders__:"
   ]
  },
  {
   "cell_type": "code",
   "execution_count": 165,
   "metadata": {},
   "outputs": [],
   "source": [
    "answer_likert_items(question_block=17, number_of_questions=1, number_of_options=2)"
   ]
  },
  {
   "cell_type": "markdown",
   "metadata": {},
   "source": [
    "... and __specify__ them __as necessary__:"
   ]
  },
  {
   "cell_type": "code",
   "execution_count": 166,
   "metadata": {},
   "outputs": [],
   "source": [
    "YES_OPTION = DRIVER.find_element_by_xpath('//label[@for=\"option-k6-survey_%i_%i\"]' % (17, 0))\n",
    "if \"is-checked\" in YES_OPTION.get_attribute(\"class\"):\n",
    "    answer_textfield(\n",
    "        question_block=18, number_of_questions=1, textfield=\"Other neurological disorder\")"
   ]
  },
  {
   "cell_type": "markdown",
   "metadata": {},
   "source": [
    "We __check__ all __medicical conditions that apply:"
   ]
  },
  {
   "cell_type": "code",
   "execution_count": 167,
   "metadata": {},
   "outputs": [],
   "source": [
    "answer_checkbox(question_block=19, number_of_options=9, none_option=8)"
   ]
  },
  {
   "cell_type": "markdown",
   "metadata": {},
   "source": [
    "If necessary, we __indicate other conditions__:"
   ]
  },
  {
   "cell_type": "code",
   "execution_count": 168,
   "metadata": {},
   "outputs": [],
   "source": [
    "OTHER_OPTION = DRIVER.find_element_by_xpath('//label[@for=\"checkbox-k6-survey_%i_%i\"]' % (19, 7))\n",
    "if \"is-checked\" in OTHER_OPTION.get_attribute(\"class\"):\n",
    "    answer_textfield(\n",
    "        question_block=20, number_of_questions=1, textfield=\"Other psychological disorder\")"
   ]
  },
  {
   "cell_type": "markdown",
   "metadata": {},
   "source": [
    "We __click \"Next\"__ to proceed to the final screen:"
   ]
  },
  {
   "cell_type": "code",
   "execution_count": 169,
   "metadata": {},
   "outputs": [],
   "source": [
    "click_button(\"Next\")"
   ]
  },
  {
   "cell_type": "markdown",
   "metadata": {},
   "source": [
    "We __finish__ the __survey__ by clicking on the respective button:"
   ]
  },
  {
   "cell_type": "code",
   "execution_count": 170,
   "metadata": {},
   "outputs": [],
   "source": [
    "click_button(\"Finish\")"
   ]
  },
  {
   "cell_type": "markdown",
   "metadata": {},
   "source": [
    "Then we __download__ our __results__:"
   ]
  },
  {
   "cell_type": "code",
   "execution_count": 171,
   "metadata": {},
   "outputs": [],
   "source": [
    "click_button(\"Download\")"
   ]
  },
  {
   "cell_type": "markdown",
   "metadata": {},
   "source": [
    "Now we can __close__ our __browser__:"
   ]
  },
  {
   "cell_type": "code",
   "execution_count": 172,
   "metadata": {},
   "outputs": [],
   "source": [
    "DRIVER.close()"
   ]
  },
  {
   "cell_type": "markdown",
   "metadata": {},
   "source": [
    "Finally we __stop the timer__:"
   ]
  },
  {
   "cell_type": "code",
   "execution_count": 173,
   "metadata": {},
   "outputs": [],
   "source": [
    "END_TIME = datetime.datetime.now()"
   ]
  },
  {
   "cell_type": "markdown",
   "metadata": {},
   "source": [
    "... and __print the timing__:"
   ]
  },
  {
   "cell_type": "code",
   "execution_count": 174,
   "metadata": {},
   "outputs": [
    {
     "name": "stdout",
     "output_type": "stream",
     "text": [
      "Timing: 0:00:44.593863\n"
     ]
    }
   ],
   "source": [
    "DURATION = END_TIME - START_TIME\n",
    "print('Timing: %s' % DURATION)"
   ]
  },
  {
   "cell_type": "markdown",
   "metadata": {},
   "source": [
    "## That's it!"
   ]
  },
  {
   "cell_type": "code",
   "execution_count": null,
   "metadata": {},
   "outputs": [],
   "source": []
  }
 ],
 "metadata": {
  "kernelspec": {
   "display_name": "Python 3",
   "language": "python",
   "name": "python3"
  },
  "language_info": {
   "codemirror_mode": {
    "name": "ipython",
    "version": 3
   },
   "file_extension": ".py",
   "mimetype": "text/x-python",
   "name": "python",
   "nbconvert_exporter": "python",
   "pygments_lexer": "ipython3",
   "version": "3.6.5"
  }
 },
 "nbformat": 4,
 "nbformat_minor": 2
}
